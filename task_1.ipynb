{
  "cells": [
    {
      "cell_type": "markdown",
      "metadata": {
        "id": "view-in-github",
        "colab_type": "text"
      },
      "source": [
        "<a href=\"https://colab.research.google.com/github/joowan0228/ch41_task_code/blob/main/task_1.ipynb\" target=\"_parent\"><img src=\"https://colab.research.google.com/assets/colab-badge.svg\" alt=\"Open In Colab\"/></a>"
      ]
    },
    {
      "cell_type": "markdown",
      "metadata": {
        "id": "0UnN2WBKO5dk"
      },
      "source": [
        "안녕하세요. 수강생 여러분~! Chapter33 ~ 41 수업은 잘 들으셨나요?\n",
        "\n",
        "Chapter33 ~ 41의 수업 내용을 바탕으로 아래 문제를 풀어주시면 됩니다.\n",
        "\n",
        "\n",
        "<br>\n",
        "\n",
        "\n",
        "[**답변 입력 방법**]\n",
        "\n",
        "문제 아래에 있는 코드 입력창에 정답코드를 작성하신 후  __▷ 버튼을 클릭해 코드를 실행__ 해보세요<br>"
      ]
    },
    {
      "cell_type": "markdown",
      "metadata": {
        "id": "5JVKIrWSO5dl"
      },
      "source": [
        "---"
      ]
    },
    {
      "cell_type": "markdown",
      "metadata": {
        "id": "AQzfmdDxO5dl"
      },
      "source": [
        "[문제 1]\n",
        "\n",
        "사용자로부터 두 개의 숫자를 입력받아 나눗셈을 수행하는 프로그램을 작성하세요.\n",
        "\n",
        "[예외처리]\n",
        "- 입력 값이 숫자가 아닐 때 발생할 수 있는 ValueError\n",
        "- 나누는 수가 0일 때 발생할 수 있는 ZeroDivisionError\n",
        "- 위 2가지 예외처리 후 사용자에게 이해하기 쉬운 메시지 작성 후 출력되도록 코드를 작성"
      ]
    },
    {
      "cell_type": "code",
      "execution_count": null,
      "metadata": {
        "id": "Z4PHaWrvO5dl",
        "outputId": "bc16a0a9-ca52-4a73-cf69-d42a50b4cd3e"
      },
      "outputs": [
        {
          "name": "stdout",
          "output_type": "stream",
          "text": [
            "10.0\n"
          ]
        }
      ],
      "source": [
        "try:\n",
        "    x = int(input(\"첫 번째 숫자 입력: \"))\n",
        "    y = int(input(\"두 번째 숫자 입력: \"))\n",
        "    print(x / y)\n",
        "except ValueError:\n",
        "    print(\"숫자만 입력해주세요.\")\n",
        "except ZeroDivisionError:\n",
        "    print(\"0으로는 나눌 수 없습니다!\")\n"
      ]
    },
    {
      "cell_type": "markdown",
      "metadata": {
        "id": "m-ZJYRuTO5dm"
      },
      "source": [
        "---"
      ]
    },
    {
      "cell_type": "markdown",
      "metadata": {
        "id": "f5lXupUrO5dm"
      },
      "source": [
        "[문제 2]\n",
        "\n",
        "파일을 읽어서 내용을 출력하는 프로그램을 작성하세요.\n",
        "\n",
        "- 파일이 존재하지 않을 때 발생하는 FileNotFoundError를 처리\n",
        "- 파일이 존재하지 않을 경우 \"파일을 찾을 수 없습니다.\"라는 메시지를 출력"
      ]
    },
    {
      "cell_type": "code",
      "execution_count": null,
      "metadata": {
        "id": "5d9Y3k71O5dm",
        "outputId": "1eae7214-4d8a-4280-f18c-2aedc4463fe3"
      },
      "outputs": [
        {
          "name": "stdout",
          "output_type": "stream",
          "text": [
            "파일을 찾을 수 없습니다.\n"
          ]
        }
      ],
      "source": [
        "try:\n",
        "    with open('test.txt', 'r') as f:\n",
        "        print(f.read())\n",
        "except FileNotFoundError:\n",
        "    print(\"파일을 찾을 수 없습니다.\")"
      ]
    },
    {
      "cell_type": "markdown",
      "metadata": {
        "id": "GBEtEHhnO5dn"
      },
      "source": [
        "---"
      ]
    },
    {
      "cell_type": "markdown",
      "metadata": {
        "id": "O12g73VwO5dn"
      },
      "source": [
        "[문제 3]\n",
        "\n",
        "사용자로부터 여러 개의 숫자를 입력받아 리스트에 저장한 후, 사용자가 'done'이라고 입력할 때까지 계속 입력받으세요.\n",
        "\n",
        "- 입력 중 숫자가 아닌 값이 입력되면 ValueError를 처리\n",
        "- 숫자 외 값이 입력된 경우 어떤 값이 잘못 입력되었는지 사용자에게 알려주는 문구 출력<br>\n",
        "  (예: f\"잘못된 값: {변수}. 숫자를 입력해주세요.\")\n",
        "\n"
      ]
    },
    {
      "cell_type": "code",
      "execution_count": null,
      "metadata": {
        "id": "hLM1XoEjO5dn",
        "outputId": "ab4b7f5c-2dcd-4bd4-ec4a-bb41f69c884a"
      },
      "outputs": [
        {
          "name": "stdout",
          "output_type": "stream",
          "text": [
            "'아아 테스트'는 숫자가 아닙니다. 숫자를 입력해 주세요!\n",
            "입력한 숫자 목록: [10.0, 20.0, 30.0, 40.0]\n"
          ]
        }
      ],
      "source": [
        "nums = []\n",
        "\n",
        "while True:\n",
        "    user_input = input(\"숫자를 입력하세요. (입력을 마치려면 'done'을 입력하세요): \")\n",
        "\n",
        "    if user_input == 'done':\n",
        "        break\n",
        "\n",
        "    try:\n",
        "        num = float(user_input)\n",
        "        nums.append(num)\n",
        "    except ValueError:\n",
        "        print(f\"'{user_input}'는 숫자가 아닙니다. 숫자를 입력해 주세요!\")\n",
        "\n",
        "print(\"입력한 숫자 목록:\", nums)"
      ]
    },
    {
      "cell_type": "markdown",
      "metadata": {
        "id": "0J_lpTNRO5dn"
      },
      "source": [
        "---"
      ]
    },
    {
      "cell_type": "markdown",
      "metadata": {
        "id": "23Zur5vgO5dn"
      },
      "source": [
        "[문제 4]\n",
        "\n",
        "사용자 정의 예외 NegativeNumberError를 생성하고, 사용자로부터 숫자를 입력받아 음수일 경우 NegativeNumberError를 발생시키는 프로그램을 작성하세요.\n",
        "\n",
        "- 예외 처리 구문을 사용하여 음수 입력 시 \"양수를 입력해주세요.\"라는 메시지를 출력"
      ]
    },
    {
      "cell_type": "code",
      "execution_count": null,
      "metadata": {
        "id": "zDCMJznaO5dn",
        "outputId": "feba36a6-0b0b-4f4a-e330-346a0a52c58d"
      },
      "outputs": [
        {
          "name": "stdout",
          "output_type": "stream",
          "text": [
            "입력한 숫자: 120\n"
          ]
        }
      ],
      "source": [
        "class NegativeNumberError(Exception):\n",
        "    def __init__(self, message=\"양수를 입력해 주세요.\"):\n",
        "        super().__init__(message)\n",
        "        self.message = message\n",
        "\n",
        "    def __str__(self):\n",
        "        return self.message\n",
        "\n",
        "\n",
        "try:\n",
        "    number = int(input(\"양수를 입력하세요: \"))\n",
        "    if number < 0:\n",
        "        raise NegativeNumberError()\n",
        "    print(f\"입력한 숫자: {number}\")\n",
        "except NegativeNumberError as e:\n",
        "    print(e)\n",
        "except ValueError:\n",
        "    print(\"올바른 숫자, 양수를 입력해 주세요.\")\n"
      ]
    },
    {
      "cell_type": "markdown",
      "metadata": {
        "id": "Bsj9MZFRO5dn"
      },
      "source": [
        "---"
      ]
    },
    {
      "cell_type": "markdown",
      "metadata": {
        "id": "l1NIDXD3O5do"
      },
      "source": [
        "[문제 5]\n",
        "\n",
        "datetime 모듈을 사용하여 현재 날짜와 시간을 출력하는 프로그램을 작성하세요.\n",
        "\n",
        "또한, 사용자로부터 태어난 년도를 입력받아 현재 나이를 계산하여 출력하세요."
      ]
    },
    {
      "cell_type": "code",
      "execution_count": null,
      "metadata": {
        "id": "qPsnrubjO5do",
        "outputId": "d2714f16-c9e8-43e4-99a4-753adc16d9bf"
      },
      "outputs": [
        {
          "name": "stdout",
          "output_type": "stream",
          "text": [
            "현재 날짜와 시간: 2025-07-17 16:09:00\n",
            "당신의 나이는 24세입니다.\n"
          ]
        }
      ],
      "source": [
        "import datetime\n",
        "\n",
        "now = datetime.datetime.now()\n",
        "print(\"현재 날짜와 시간:\", now.strftime(\"%Y-%m-%d %H:%M:%S\"))\n",
        "\n",
        "try:\n",
        "    birth_year = input(\"태어난 연도를 입력하세요: \")\n",
        "    if not birth_year.isdigit():\n",
        "        raise ValueError(\"올바른 연도를 입력하세요. (양의 정수만 가능)\")\n",
        "    birth_year = int(birth_year)\n",
        "    if birth_year <= 0:\n",
        "        raise ValueError(\"올바른 연도를 입력하세요. (양의 정수만 가능)\")\n",
        "\n",
        "    current_year = datetime.datetime.now().year\n",
        "    age = current_year - birth_year\n",
        "    print(f\"당신의 나이는 {age}세입니다.\")\n",
        "\n",
        "except ValueError as e:\n",
        "    print(e)"
      ]
    },
    {
      "cell_type": "markdown",
      "metadata": {
        "id": "Tz-owbVvO5do"
      },
      "source": [
        "---"
      ]
    },
    {
      "cell_type": "markdown",
      "metadata": {
        "id": "6oFqzisqO5do"
      },
      "source": [
        "[문제 6]\n",
        "\n",
        "requests 모듈을 사용하여, 웹 페이지의 HTML을 가져오는 간단한 웹 스크레이퍼를 작성하세요.\n",
        "\n",
        "'https://kream.co.kr/'에서<br>\n",
        "데이터를 가져와서 상태 코드와 HTML의 첫 100자를 출력하세요.<br>\n",
        "(실습 전 requests 모듈을 설치해야 함)"
      ]
    },
    {
      "cell_type": "code",
      "execution_count": null,
      "metadata": {
        "id": "7s24zxZxO5do",
        "outputId": "b18d6b93-5a14-4384-8a6a-cd30e27ee299"
      },
      "outputs": [
        {
          "name": "stdout",
          "output_type": "stream",
          "text": [
            "상태 코드: 500\n",
            "HTML의 첫 100자:\n",
            " <!DOCTYPE html>\n",
            "<html lang=\"ko\">\n",
            "<head>\n",
            "<meta name=\"robots\" content=\"noindex, nofollow\" />\n",
            "<meta htt\n"
          ]
        }
      ],
      "source": [
        "import requests\n",
        "\n",
        "url = 'https://kream.co.kr/'\n",
        "\n",
        "response = requests.get(url)\n",
        "\n",
        "print(\"상태 코드:\", response.status_code)\n",
        "print(\"HTML의 첫 100자:\\n\", response.text[:100])"
      ]
    },
    {
      "cell_type": "markdown",
      "metadata": {
        "id": "abvfz-KNO5do"
      },
      "source": [
        "---"
      ]
    },
    {
      "cell_type": "markdown",
      "metadata": {
        "id": "j7T8DigbO5do"
      },
      "source": [
        "[문제 7]\n",
        "\n",
        "함수 실행 시간을 측정하는 데코레이터 timer_decorator를 작성하세요.\n",
        "\n",
        "임의의 함수가 실행되는 시간을 측정하여 \"함수 실행 시간: x.xx초\" 형태로 출력하세요."
      ]
    },
    {
      "cell_type": "code",
      "execution_count": null,
      "metadata": {
        "id": "0j7wu1rpO5do",
        "outputId": "080f173b-77b2-4e71-e388-ae98fc6d5c58"
      },
      "outputs": [
        {
          "name": "stdout",
          "output_type": "stream",
          "text": [
            "함수 실행 시간: 0.03초\n"
          ]
        },
        {
          "data": {
            "text/plain": [
              "499999500000"
            ]
          },
          "execution_count": 7,
          "metadata": {},
          "output_type": "execute_result"
        }
      ],
      "source": [
        "import time\n",
        "\n",
        "def timer_decorator(func):\n",
        "    def wrapper(*args, **kwargs):\n",
        "        start_time = time.time()\n",
        "        result = func(*args, **kwargs)\n",
        "        end_time = time.time()\n",
        "        print(f\"함수 실행 시간: {end_time - start_time:.2f}초\")\n",
        "        return result\n",
        "    return wrapper\n",
        "\n",
        "\n",
        "@timer_decorator\n",
        "def example_function():\n",
        "    sum = 0\n",
        "    for i in range(1000000):\n",
        "        sum += i\n",
        "    return sum\n",
        "\n",
        "\n",
        "example_function()"
      ]
    },
    {
      "cell_type": "markdown",
      "metadata": {
        "id": "jSPdMP9rO5do"
      },
      "source": [
        "---"
      ]
    },
    {
      "cell_type": "markdown",
      "metadata": {
        "id": "ZZ-SRU5hO5dp"
      },
      "source": [
        "[문제 8]\n",
        "\n",
        "여러분이 자주 사용하는 수학적 연산<br>\n",
        "(예: 삼각형 넓이, 원의 넓이, 직육면체의 넓이)을 수행하는 함수들을 포함하는 mymath.py라는 이름의 모듈을 만드세요.\n",
        "\n",
        "이 모듈을 사용하여 작성된 함수들을 실제로 임포트하고 사용하는 간단한 프로그램을 작성하세요."
      ]
    },
    {
      "cell_type": "code",
      "execution_count": null,
      "metadata": {
        "id": "sSsQbiL6O5dp"
      },
      "outputs": [],
      "source": [
        "import math\n",
        "\n",
        "def triangle_area(base, height):\n",
        "    return 0.5 * base * height\n",
        "\n",
        "def circle_area(radius):\n",
        "    return math.pi * radius ** 2\n",
        "\n",
        "def cuboid_area(length, width, height):\n",
        "    return 2 * (length * width + width * height + height * length)"
      ]
    },
    {
      "cell_type": "code",
      "execution_count": null,
      "metadata": {
        "id": "umvnqyp2O5dp",
        "outputId": "dccf6c10-7d3d-46ef-b0f3-ca473f2b49fc"
      },
      "outputs": [
        {
          "name": "stdout",
          "output_type": "stream",
          "text": [
            "삼각형의 넓이: 15.0\n",
            "원의 넓이: 50.26548245743669\n",
            "직육면체의 넓이: 220\n"
          ]
        }
      ],
      "source": [
        "import mymath\n",
        "\n",
        "print(\"삼각형의 넓이:\", mymath.triangle_area(3, 10))\n",
        "print(\"원의 넓이:\", mymath.circle_area(4))\n",
        "print(\"직육면체의 넓이:\", mymath.cuboid_area(5, 10, 4))"
      ]
    },
    {
      "cell_type": "markdown",
      "metadata": {
        "id": "yOZTCB-0O5dp"
      },
      "source": [
        "---"
      ]
    },
    {
      "cell_type": "markdown",
      "metadata": {
        "id": "AbzlDEXnO5dp"
      },
      "source": [
        "[문제 9]\n",
        "\n",
        "animals라는 패키지를 만들고, 이 패키지 내에 mammals, birds라는 두 개의 서브 모듈을 생성하세요.\n",
        "\n",
        "- 각 모듈에는 최소한 한 개 이상의 동물에 관한 클래스를 정의하세요<br>\n",
        "  (예: mammals에는 Dog, birds에는 Eagle)\n",
        "- 이 패키지와 모듈을 사용하여 동물들의 정보를 출력하는 프로그램을 작성\n",
        "\n",
        "폴더 및 파일 구조\n",
        "```\n",
        "animals/(폴더)\n",
        "├── __init__.py\n",
        "├── mammals.py\n",
        "└── birds.py\n",
        "```\n"
      ]
    },
    {
      "cell_type": "code",
      "execution_count": null,
      "metadata": {
        "id": "8GOgdwcaO5dp"
      },
      "outputs": [],
      "source": [
        "class Dog:\n",
        "    def speak(self):\n",
        "        return \"멍멍!\"\n",
        "\n",
        "    def __str__(self):\n",
        "        return \"Dog\""
      ]
    },
    {
      "cell_type": "code",
      "execution_count": null,
      "metadata": {
        "id": "g1aknzuBO5dp"
      },
      "outputs": [],
      "source": [
        "class Eagle:\n",
        "    def speak(self):\n",
        "        return \"소리질러!\"\n",
        "\n",
        "    def __str__(self):\n",
        "        return \"Eagle\""
      ]
    },
    {
      "cell_type": "code",
      "execution_count": null,
      "metadata": {
        "id": "ZtLnK4jyO5dp",
        "outputId": "2ba9f064-ca55-4c41-ef95-fb26dd325c66"
      },
      "outputs": [
        {
          "name": "stdout",
          "output_type": "stream",
          "text": [
            "Dog\n",
            "멍멍!\n",
            "Eagle\n",
            "소리질러!\n"
          ]
        }
      ],
      "source": [
        "from animals.mammals import Dog\n",
        "from animals.birds import Eagle\n",
        "\n",
        "dog = Dog()\n",
        "eagle = Eagle()\n",
        "\n",
        "print(dog)\n",
        "print(dog.speak())\n",
        "\n",
        "print(eagle)\n",
        "print(eagle.speak())"
      ]
    },
    {
      "cell_type": "markdown",
      "metadata": {
        "id": "nukciUnPO5dq"
      },
      "source": [
        "---"
      ]
    }
  ],
  "metadata": {
    "kernelspec": {
      "display_name": "Python 3",
      "language": "python",
      "name": "python3"
    },
    "language_info": {
      "codemirror_mode": {
        "name": "ipython",
        "version": 3
      },
      "file_extension": ".py",
      "mimetype": "text/x-python",
      "name": "python",
      "nbconvert_exporter": "python",
      "pygments_lexer": "ipython3",
      "version": "3.10.6"
    },
    "colab": {
      "provenance": [],
      "include_colab_link": true
    }
  },
  "nbformat": 4,
  "nbformat_minor": 0
}